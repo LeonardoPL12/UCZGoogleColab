{
  "nbformat": 4,
  "nbformat_minor": 0,
  "metadata": {
    "colab": {
      "provenance": [],
      "collapsed_sections": [
        "0H3OyrrMRYWo"
      ],
      "authorship_tag": "ABX9TyM1rM6ADZWBLY8usiK5GL2J",
      "include_colab_link": true
    },
    "kernelspec": {
      "name": "python3",
      "display_name": "Python 3"
    },
    "language_info": {
      "name": "python"
    }
  },
  "cells": [
    {
      "cell_type": "markdown",
      "metadata": {
        "id": "view-in-github",
        "colab_type": "text"
      },
      "source": [
        "<a href=\"https://colab.research.google.com/github/LeonardoPL12/UCZGoogleColab/blob/main/Wizualizacja_danych%2C_biblioteki_Pandas%2C_Matplotlib.ipynb\" target=\"_parent\"><img src=\"https://colab.research.google.com/assets/colab-badge.svg\" alt=\"Open In Colab\"/></a>"
      ]
    },
    {
      "cell_type": "markdown",
      "metadata": {
        "id": "0H3OyrrMRYWo"
      },
      "source": [
        "#**Laboratorium 3/12 2025.03.04** | Wizualizacja danych, biblioteki Pandas, Matplotlib"
      ]
    },
    {
      "cell_type": "markdown",
      "source": [
        "##Pliki do lekcji\n",
        "\n",
        "[Kliknij tutaj](https://drive.google.com/drive/folders/1SgPBRYF0HgzLtmm5mer05cjgkhsBzuKI?usp=sharing), aby pobrać pliki do lekcji."
      ],
      "metadata": {
        "id": "-LJxl_jNgUOW"
      }
    },
    {
      "cell_type": "markdown",
      "metadata": {
        "id": "UxSGKbtfRYWu"
      },
      "source": [
        "## Wstęp\n",
        "\n",
        "Wizualizacja danych jest częścią eksploracji danych, która stanowi fundamentalny etap cyklu AI. Technikę tę wykorzystuje się, żeby zrozumieć i zyskać wgląd w zebrane dane oraz zdecydować, czy dane są gotowe do dalszego przetwarzania, czy trzeba zebrać więcej danych lub je wyczyścić.\n",
        "\n",
        "Techniki tej używa się także do prezentacji wyników.\n",
        "\n",
        "W tym notatniku skupimy się na wizualizacji danych z wykorzystaniem biblioteki matplotlib, popularnym standardzie wizualizacji w Pythonie.\n",
        "\n",
        "## Kontekst\n",
        "\n",
        "Będziemy pracować na danych pogodowych dla Jaipur uzyskanych z [Kaggle](https://www.kaggle.com/rajatdey/jaipur-weather-forecasting/version/2), platformy dla entuzjastów analizy danych, której używają do dzielenia się wiedzą oraz organizacji rozmaitych zawodów!\n",
        "\n",
        "Dane zostały wyczyszczone i uproszczone, tak żeby można się skupić na wizualizacji danych, a nie ich czyszczeniu.\n",
        "\n",
        "## Dane w rolnictwie\n",
        "\n",
        "Wyobraź sobie, że jesteś rolnikiem. Jakie są twoje główne zmartwienia? Chcesz mieć najlepsze warunki do uprawy i zbierać zadowalające plony.\n",
        "\n",
        "Pogoda jest zasadniczym czynnikiem decydującym o sukcesie twojego gospodarstwa (chyba że prowadzisz gospodarstwo w pomieszczeniach) [indoor farm](https://www.nanalyze.com/2019/01/indoor-farming-agriculture-indoors/). Na szczęście w dzisiejszych czasach łatwiej jest uzyskać dostęp do danych pogodowych dzięki powszechności technologii czujników. Jest też dużo źródeł otwartych danych, z których można uzyskać dane pogodowe.  \n",
        "\n",
        "- [Indyjskie źródła otwartych danych](https://data.gov.in/keywords/weather)\n",
        "- [Koreańskie źródła otwartych danych](https://www.data.go.kr/e_main.jsp#/L21haW4=)\n",
        "- [Polskie źródła otwartych danych](https://index.okfn.org/place/pl/)\n",
        "\n",
        "Masz już dostęp do danych (JaipurFinalCleanData.csv). Ten plik zawiera informacje pogodowe dla Jaipur.\n",
        "\n",
        "Co dalej?\n"
      ]
    },
    {
      "cell_type": "markdown",
      "metadata": {
        "id": "I5WA0t7ZRYWw"
      },
      "source": [
        "### Na marginesie: Co to jest csv?\n",
        "\n",
        "CSV (Comma-Separated Value) to plik zawierający dane rozdzielone [przecinkami](http://w3c.github.io/csvw/use-cases-and-requirements/egypt-referendum-2012-result-csv-in-textwrangler.png).\n",
        "\n",
        "Zwykle uzyskujemy dostęp do tych plików przez wykorzystanie arkuszy obliczeniowych takich jak Excel czy Google Sheet. Wiesz, jak to się robi?\n",
        "\n",
        "Dzisiaj dowiesz się, jak używać Pythona do otwierania plików csv."
      ]
    },
    {
      "cell_type": "markdown",
      "metadata": {
        "id": "CkY6z6vlRYWw"
      },
      "source": [
        "## Wykorzystanie języka Python do otwierania plików csv\n",
        "\n",
        "Przy pracy z naszym zestawem danych skorzystamy z biblioteki [pandas](https://pandas.pydata.org/). Pandas jest popularną biblioteką w Pythonie przy pracy z danymi naukowymi, która oferuje potężne i elastyczne struktury danych ułatwiające manipulację i analizę danych.\n",
        "\n",
        "## Importuj Pandas\n"
      ]
    },
    {
      "cell_type": "code",
      "execution_count": null,
      "metadata": {
        "id": "oQxejGSQRYWx"
      },
      "outputs": [],
      "source": [
        "import pandas as pd  # Importuj pandas jako pd oznacza, że możesz wpisać “pd”, żeby wywołać bibliotekę pandas"
      ]
    },
    {
      "cell_type": "markdown",
      "metadata": {
        "id": "tQsGxSnKRYWz"
      },
      "source": [
        "Po zaimportowaniu Pandas, możesz przejść do odczytywania pliku csv."
      ]
    },
    {
      "cell_type": "code",
      "execution_count": null,
      "metadata": {
        "id": "NXsoJakURYWz"
      },
      "outputs": [],
      "source": [
        "# Zapisanie pliku csv jako zmienna, którą będziemy nazywać dataframe'm\n",
        "dataframe = pd.read_csv(\"JaipurFinalCleanData.csv\")"
      ]
    },
    {
      "cell_type": "code",
      "source": [
        "dataframe"
      ],
      "metadata": {
        "id": "uuXfek9IPc7w"
      },
      "execution_count": null,
      "outputs": []
    },
    {
      "cell_type": "code",
      "source": [
        "dataframe.drop?"
      ],
      "metadata": {
        "id": "xp7K0E-ePj3_"
      },
      "execution_count": null,
      "outputs": []
    },
    {
      "cell_type": "markdown",
      "metadata": {
        "id": "kCWPmB6YRYW0"
      },
      "source": [
        "## Eksploracja danych"
      ]
    },
    {
      "cell_type": "markdown",
      "metadata": {
        "id": "A3vDjeMyRYW1"
      },
      "source": [
        "Świetnie! Mamy zmienną, która pomieści nasze dane pogodowe. Przejdźmy do eksploracji danych. Wykorzystaj funkcję .head(), żeby zobaczyć kilka pierwszych wierszy danych."
      ]
    },
    {
      "cell_type": "code",
      "execution_count": null,
      "metadata": {
        "scrolled": true,
        "id": "8zpCJ5-7RYW2"
      },
      "outputs": [],
      "source": [
        "# Dataframe.head()() oznacza, że zobaczysz pięć pierwszych wierszy danych\n",
        "# Wypróbuj tę funkcję, żeby sprawdzić jakie dane są w pliku jaipur csv\n",
        "print(dataframe.head())"
      ]
    },
    {
      "cell_type": "code",
      "source": [
        "dataframe.head?"
      ],
      "metadata": {
        "id": "fwYXg6KVS3rn"
      },
      "execution_count": null,
      "outputs": []
    },
    {
      "cell_type": "markdown",
      "metadata": {
        "id": "B8qsvebtRYW2"
      },
      "source": [
        "### Zadanie 1: Wyświetl 10 pierwszych wierszy danych modyfikując powyższą funkcję"
      ]
    },
    {
      "cell_type": "code",
      "execution_count": null,
      "metadata": {
        "id": "5mmeqF-tRYW3"
      },
      "outputs": [],
      "source": [
        "# Twój kod"
      ]
    },
    {
      "cell_type": "markdown",
      "metadata": {
        "id": "c7DMWj-bRYW3"
      },
      "source": [
        "Co zauważasz po wyświetleniu kilku pierwszych wierszy danych?\n",
        "- Jakie widzisz nagłówki? Jeśli nie masz pewności, sprawdź w Internecie!\n",
        "- Czy zapisane wartości mają dla ciebie sens?"
      ]
    },
    {
      "cell_type": "markdown",
      "metadata": {
        "id": "7qX_6emuRYW3"
      },
      "source": [
        "### Znajdź typ danych\n",
        "\n",
        "Możesz wykorzystać dtypes, żeby znaleźć typ danych (ciągi danych, dane zmiennoprzecinkowe, dane całkowite)."
      ]
    },
    {
      "cell_type": "code",
      "execution_count": null,
      "metadata": {
        "id": "-EAi-Y4zRYW4"
      },
      "outputs": [],
      "source": [
        "dataframe.dtypes"
      ]
    },
    {
      "cell_type": "markdown",
      "metadata": {
        "id": "uSVQ1oc_RYW4"
      },
      "source": [
        "### Na marginesie: Informacje o funkcji\n",
        "\n",
        "Czasami natykamy się na funkcję, której nie znamy. W narzędziu Google Colab można skorzystać z pomocy, żeby uzyskać dodatkowe informacje o funkcji – jej cechy, oczekiwane wejście, parametry i wyjście. Dostępne są również przykłady wykorzystania tej funkcji. Wypróbuj tę opcję na przykładzie funkcji .head()."
      ]
    },
    {
      "cell_type": "code",
      "execution_count": null,
      "metadata": {
        "id": "M6uAW8sWRYW4"
      },
      "outputs": [],
      "source": [
        "dataframe.head?"
      ]
    },
    {
      "cell_type": "markdown",
      "metadata": {
        "id": "vXen8HeCRYW5"
      },
      "source": [
        "Co zauważasz? Jakie są parametry i generowane wyjścia?"
      ]
    },
    {
      "cell_type": "markdown",
      "metadata": {
        "id": "P6HJyv88RYW5"
      },
      "source": [
        "### Zadanie 2: Co robi dtypes?\n",
        "Wykorzystaj funkcję pomocy, żeby dowiedzieć się, po co jest dtypes"
      ]
    },
    {
      "cell_type": "code",
      "execution_count": null,
      "metadata": {
        "id": "TP37PoZ2RYW5"
      },
      "outputs": [],
      "source": [
        "# Twój kod"
      ]
    },
    {
      "cell_type": "markdown",
      "metadata": {
        "id": "QhUPOX3ORYW5"
      },
      "source": [
        "Co zauważasz? Jakie są parametry i generowane wyjścia?\n",
        "\n",
        "## Wybór wyłącznie zestawu danych, który cię interesuje"
      ]
    },
    {
      "cell_type": "markdown",
      "metadata": {
        "id": "mxyVidRPRYW6"
      },
      "source": [
        "Spójrzmy na wszystkie uzyskane nagłówki i zastanówmy się, z którym zestawem danych chcemy teraz pracować.\n",
        "\n",
        "### Zadanie 3: Wypisz nagłówki ze zestawu danych"
      ]
    },
    {
      "cell_type": "code",
      "execution_count": null,
      "metadata": {
        "id": "IGrjfDyoRYW6"
      },
      "outputs": [],
      "source": [
        "dataframe.dtypes"
      ]
    },
    {
      "cell_type": "markdown",
      "metadata": {
        "id": "oAWQTKLHRYW6"
      },
      "source": [
        "W tym zestawie danych jest 16 kolumn, ale do tego ćwiczenia nie potrzebujemy ich wszystkich. Jedną z opcji w tej sytuacji jest odrzucenie kolumn, których nie potrzebujemy. Pandas oferuje prosty sposób odrzucenia kolumn za pomocą funkcji .drop."
      ]
    },
    {
      "cell_type": "code",
      "execution_count": null,
      "metadata": {
        "id": "sEEP-tCpRYW6"
      },
      "outputs": [],
      "source": [
        "dataframe = dataframe.drop([\"max_dew_pt_2\"], axis=1)"
      ]
    },
    {
      "cell_type": "markdown",
      "metadata": {
        "id": "1hPM7zeMRYW7"
      },
      "source": [
        "Wypisz dataframe, żeby mieć pewność, że kolumny zostały odrzucone; wypisz za pomocą head() lub dtypes."
      ]
    },
    {
      "cell_type": "code",
      "execution_count": null,
      "metadata": {
        "id": "Vsvn_ZDoRYW7"
      },
      "outputs": [],
      "source": [
        "dataframe.dtypes"
      ]
    },
    {
      "cell_type": "markdown",
      "metadata": {
        "id": "a-ivVYqNRYW7"
      },
      "source": [
        "### Zadanie 4: Odrzuć następujące kolumny: (min_dew_pt_2, max_pressure_2, min_pressure_2)"
      ]
    },
    {
      "cell_type": "code",
      "execution_count": null,
      "metadata": {
        "id": "qldNYxtFRYW7"
      },
      "outputs": [],
      "source": [
        "# Twój kod"
      ]
    },
    {
      "cell_type": "markdown",
      "metadata": {
        "id": "tedML8TlRYW7"
      },
      "source": [
        "### Zadanie 5: Sprawdź ponownie, czy te kolumny zostały odrzucone"
      ]
    },
    {
      "cell_type": "code",
      "execution_count": null,
      "metadata": {
        "id": "UeW9gYUbRYW8"
      },
      "outputs": [],
      "source": [
        "# Twój kod"
      ]
    },
    {
      "cell_type": "markdown",
      "metadata": {
        "id": "XTwD7GULRYW8"
      },
      "source": [
        "Świetnie! Teraz możemy się skupić na tym zestawie danych!"
      ]
    },
    {
      "cell_type": "markdown",
      "metadata": {
        "id": "IKWvoDG_RYW8"
      },
      "source": [
        "## Sortowanie wartości przy użyciu Pandas\n",
        "\n",
        "Często chcemy poznać zakres danych, żeby móc je lepiej zrozumieć. Kolejną cechą Pandas dataframe jest sortowanie wartości. Można to zrobić za pomocą funkcji sort_values()."
      ]
    },
    {
      "cell_type": "code",
      "execution_count": null,
      "metadata": {
        "id": "vMUVBt9wRYW8"
      },
      "outputs": [],
      "source": [
        "jaipur_weather = dataframe.sort_values(by='date',ascending = False)\n",
        "print(jaipur_weather.head(5))"
      ]
    },
    {
      "cell_type": "markdown",
      "metadata": {
        "id": "CJZEDEzkRYW8"
      },
      "source": [
        "Co zauważasz, patrząc na liczby? Spójrz na datę. Widzisz, jak ta funkcja pomaga sortować dane w oparciu o datę?\n",
        "\n",
        "### Zadanie 6: Posortuj wartości średniej temperatury w porządku rosnącym i wypisz 5 pierwszych wierszy"
      ]
    },
    {
      "cell_type": "code",
      "execution_count": null,
      "metadata": {
        "id": "o2_e7sS2RYW9"
      },
      "outputs": [],
      "source": [
        "# Twój kod"
      ]
    },
    {
      "cell_type": "markdown",
      "metadata": {
        "id": "0NtHxqg6RYW9"
      },
      "source": [
        "Spójrz na temperaturę maksymalną i minimalną! Zauważ zakres temperatury, którego można doświadczyć w ciągu jednego dnia.\n",
        "\n",
        "### Zadanie 7: Posortuj wartości średniej temperatury w porządku malejącym i wypisz 5 pierwszych wierszy"
      ]
    },
    {
      "cell_type": "code",
      "execution_count": null,
      "metadata": {
        "id": "h9TH5qT_RYW9"
      },
      "outputs": [],
      "source": [
        "# Twój kod"
      ]
    },
    {
      "cell_type": "markdown",
      "metadata": {
        "id": "EuiqIR_QRYW9"
      },
      "source": [
        "Widzisz, jaki jest zakres temperatury w ciągu roku? 10°C do 38°C!\n",
        "\n",
        "Teraz mamy bardziej przejrzysty obraz zestawu danych. Z wykorzystaniem tych funkcji możemy przeanalizować dane i lepiej je zrozumieć.  \n",
        "\n",
        "Jednak pragniemy uzyskać jeszcze lepszy obraz. Chcemy się nauczyć, jak eksplorować te dane wizualnie.\n",
        "\n",
        "Wykorzystajmy bibliotekę matplotlib do wizualizacji danych w Pythonie.  "
      ]
    },
    {
      "cell_type": "markdown",
      "metadata": {
        "id": "L2lGBe_tRYW9"
      },
      "source": [
        "## Importowanie matplotlib\n",
        "\n",
        "[Matplotlib](https://matplotlib.org/) jest biblioteką do tworzenia wykresów dla języka Python, której można użyć do tworzenia wysokiej jakości wizualizacji danych. Biblioteka jest bardzo przydatna (o czym się wkrótce przekonasz) i pozwala na tworzenie prostych i złożonych wykresów za pomocą tylko kilku linii kodu!\n",
        "\n",
        "Załadujmy matplotlib i zacznijmy tworzyć wykresy"
      ]
    },
    {
      "cell_type": "code",
      "execution_count": null,
      "metadata": {
        "id": "ak7WOBuARYW-"
      },
      "outputs": [],
      "source": [
        "import matplotlib.pyplot as plt\n",
        "import numpy as np"
      ]
    },
    {
      "cell_type": "markdown",
      "metadata": {
        "id": "J21sCVZpRYW-"
      },
      "source": [
        "## Wykres punktowy\n",
        "\n",
        "Wykres punktowy wykorzystuje zbiór punktów na wykresie do prezentacji wartości dwóch zmiennych. To pozwala dostrzec, czy między tymi zmiennymi jest jakiś związek lub korelacja.\n",
        "\n",
        "Zobaczmy, jak średnia temperatura zmienia się w kolejnych latach!"
      ]
    },
    {
      "cell_type": "code",
      "execution_count": null,
      "metadata": {
        "id": "xATT812tRYW-"
      },
      "outputs": [],
      "source": [
        "x = dataframe.date\n",
        "y = dataframe.mean_temperature"
      ]
    },
    {
      "cell_type": "code",
      "execution_count": null,
      "metadata": {
        "id": "Brymyem_RYW-"
      },
      "outputs": [],
      "source": [
        "plt.scatter(x,y)\n",
        "plt.show()"
      ]
    },
    {
      "cell_type": "markdown",
      "metadata": {
        "id": "KQF0P_6_RYW_"
      },
      "source": [
        "Widzisz, że oś x jest wypełniona grubą linią i nie ma widocznych oznaczeń? Przez to nie możemy przeanalizować danych.\n",
        "\n",
        "Spróbujmy zmodyfikować wykres tak, żeby oznaczenia były widoczne!\n",
        "\n",
        "### Wybierz tylko kilka punktów oznaczeń\n",
        "Jednym z powodów, dla których pasek oznaczeń znajduje się poniżej osi X jest fakt, że na tej osi istnieją liczne oznaczenia (2 lata dziennych danych).\n",
        "\n",
        "Pierwszą rzeczą, jaką zrobimy jest zredukowanie liczby oznaczeń / punktów dla osi x. Można to zrobić z wykorzystaniem funkcji np.arange, jak pokazano poniżej:"
      ]
    },
    {
      "cell_type": "code",
      "execution_count": null,
      "metadata": {
        "id": "Em56d81HRYW_"
      },
      "outputs": [],
      "source": [
        "plt.scatter(x,y)\n",
        "plt.xticks(np.arange(0, 731, 30))\n",
        "plt.show()"
      ]
    },
    {
      "cell_type": "markdown",
      "metadata": {
        "id": "bw1VkzUdRYW_"
      },
      "source": [
        "Teraz widok jest bardziej przejrzysty, ale liczby nadal na siebie zachodzą.\n",
        "### Zadanie 8: Zmień odstępy między punktami na osi x, żeby daty były lepiej widoczne"
      ]
    },
    {
      "cell_type": "code",
      "execution_count": null,
      "metadata": {
        "id": "YpMAGpUxRYW_"
      },
      "outputs": [],
      "source": [
        "# Twój kod"
      ]
    },
    {
      "cell_type": "markdown",
      "metadata": {
        "id": "JLzzK2FrRYW_"
      },
      "source": [
        "Jaki odstęp jest potrzebny, żeby wszystkie daty były widoczne? Zauważasz, że teraz mamy tylko kilka punktów oznaczeń?\n",
        "\n",
        "Spróbujmy je lekko zmodyfikować. Zobacz przykład na [Stackoverflow](https://stackoverflow.com/questions/10998621/rotate-axis-text-in-python-matplotlib)!\n",
        "\n",
        "Uwaga: Stackoverflow to strona, gdzie personel techniczny zbiera informacje i dzieli się swoją wiedzą. Na tej stronie możesz wpisywać zapytania i sprawdzać, czy ktoś już rozwiązał te zagadnienia!\n",
        "\n",
        "### Zadanie 9: Obróć oznaczenia na osi x, by były lepiej widoczne"
      ]
    },
    {
      "cell_type": "code",
      "execution_count": null,
      "metadata": {
        "id": "uQGqZWoeRYXA"
      },
      "outputs": [],
      "source": [
        "# Twój kod"
      ]
    },
    {
      "cell_type": "markdown",
      "metadata": {
        "id": "deFoHEP5RYXA"
      },
      "source": [
        "Teraz oznaczenia na osi x są lepiej widoczne.\n",
        "\n",
        "Zauważ, jak temperatura się zmienia w ciągu roku. Porównaj ją z tą  [stroną WWW](https://weather-and-climate.com/average-monthly-Rainfall-Temperature-Sunshine,jaipur,India). Czy znajdujesz informacje, kiedy najlepiej zacząć sadzić rośliny?\n",
        "### Nadawanie nazw osiom x i y\n",
        "\n",
        "Osiom x i y można także nadać nazwy. Ułatwi ci to wizualizację i udostępnianie danych."
      ]
    },
    {
      "cell_type": "code",
      "execution_count": null,
      "metadata": {
        "id": "sriF4YuoRYXA"
      },
      "outputs": [],
      "source": [
        "plt.scatter(x,y)\n",
        "plt.xticks(np.arange(0, 731, 60))\n",
        "plt.xticks (rotation=30)\n",
        "\n",
        "# Dodaj nazwy x i y oraz ustaw rozmiar czcionki\n",
        "plt.xlabel (\"Date\", fontsize = 14)\n",
        "plt.ylabel (\"Mean Temperature\", fontsize = 14)\n",
        "\n",
        "plt.show()"
      ]
    },
    {
      "cell_type": "markdown",
      "metadata": {
        "id": "8jZbU3OxRYXA"
      },
      "source": [
        "Świetnie!\n",
        "\n",
        "### Zadanie 10: Dodajmy tytuł\n",
        "Zobacz, jak to zrobić [tutaj](https://python-graph-gallery.com/4-add-title-and-axis-label/)."
      ]
    },
    {
      "cell_type": "code",
      "execution_count": null,
      "metadata": {
        "id": "5iXS5kp7RYXA"
      },
      "outputs": [],
      "source": [
        "# Twój kod"
      ]
    },
    {
      "cell_type": "markdown",
      "metadata": {
        "id": "bPMCedDERYXB"
      },
      "source": [
        "### Zadanie 11: Zmień rozmiar tytułu, żeby był większy od nazw x i y!"
      ]
    },
    {
      "cell_type": "code",
      "execution_count": null,
      "metadata": {
        "id": "PatX1H5TRYXB"
      },
      "outputs": [],
      "source": [
        "# Twój kod"
      ]
    },
    {
      "cell_type": "markdown",
      "metadata": {
        "id": "KsJ8kN5vRYXB"
      },
      "source": [
        "Dobrze! Teraz możemy zmienić także rozmiar wykresu"
      ]
    },
    {
      "cell_type": "code",
      "execution_count": null,
      "metadata": {
        "id": "ssNBgdVSRYXB"
      },
      "outputs": [],
      "source": [
        "# Zmień domyślny rozmiar rysunku\n",
        "plt.figure(figsize=(10,10))\n",
        "\n",
        "plt.scatter(x,y)\n",
        "plt.xticks(np.arange(0, 731, 60))\n",
        "plt.xticks (rotation=30)\n",
        "\n",
        "# Dodaj oznaczenia x i y, tytuł i ustaw rozmiar czcionki\n",
        "plt.xlabel (\"Date\", fontsize = 24)\n",
        "plt.ylabel (\"Mean Temperature\", fontsize = 24)\n",
        "plt.title('Mean Temperature at Jaipur', fontsize = 30)\n",
        "\n",
        "# Ustaw rozmiar czcionki oznaczeń liczb na osiach\n",
        "plt.xticks (fontsize = 12)\n",
        "plt.yticks (fontsize = 12)\n",
        "\n",
        "plt.xticks (rotation=30, horizontalalignment='right')\n",
        "\n",
        "\n",
        "plt.show()"
      ]
    },
    {
      "cell_type": "markdown",
      "metadata": {
        "id": "ZDst8JyjRYXC"
      },
      "source": [
        "Wygląda dobrze! Dostosujmy wykresy do kształtów i kolorów, które nam się podobają. Obejrzyj przykłady [tutaj](https://python-graph-gallery.com/131-custom-a-matplotlib-scatterplot/).\n",
        "\n",
        "### Zadanie 12: Zmień kształt punktów na wykresie!"
      ]
    },
    {
      "cell_type": "code",
      "execution_count": null,
      "metadata": {
        "id": "CEy0UerPRYXC"
      },
      "outputs": [],
      "source": [
        "# Twój kod"
      ]
    },
    {
      "cell_type": "markdown",
      "metadata": {
        "id": "MXn_BBmCRYXC"
      },
      "source": [
        "### Zmiana koloru\n",
        "\n",
        "Można zmienić również kolor punktów na wykresie. Poniższy kod pokaże ci jak to zrobić!"
      ]
    },
    {
      "cell_type": "code",
      "execution_count": null,
      "metadata": {
        "id": "1AgJi3AoRYXC"
      },
      "outputs": [],
      "source": [
        "# Zmień domyślny rozmiar rysunku\n",
        "plt.figure(figsize=(10,10))\n",
        "\n",
        "plt.scatter(x,y, c='green', marker='*')\n",
        "plt.xticks(np.arange(0, 731, 60))\n",
        "plt.xticks (rotation=30)\n",
        "\n",
        "# Dodaj oznaczenia x i y, tytuł i ustaw rozmiar czcionki\n",
        "plt.xlabel (\"Date\", fontsize = 24)\n",
        "plt.ylabel (\"Mean Temperature\", fontsize = 24)\n",
        "plt.title('Mean Temperature at Jaipur', fontsize = 30)\n",
        "\n",
        "# Ustaw rozmiar czcionki oznaczeń liczb na osiach\n",
        "plt.xticks (fontsize = 12)\n",
        "plt.yticks (fontsize = 12)\n",
        "\n",
        "plt.xticks (rotation=30, horizontalalignment='right')\n",
        "\n",
        "\n",
        "plt.show()"
      ]
    },
    {
      "cell_type": "markdown",
      "metadata": {
        "id": "zwzPah0JRYXD"
      },
      "source": [
        "Zajrzyj do swojego katalogu roboczego i sprawdź, czy nowy plik obrazu został utworzony!\n",
        "### Zadanie 13: Zmień punkty danych na twój ulubiony kolor.\n",
        "Zmień także kolor czcionki oraz rozmiar!"
      ]
    },
    {
      "cell_type": "code",
      "execution_count": null,
      "metadata": {
        "id": "2eWAI_DZRYXD"
      },
      "outputs": [],
      "source": [
        "# Twój kod"
      ]
    },
    {
      "cell_type": "markdown",
      "metadata": {
        "id": "Q-kJRKJkRYXD"
      },
      "source": [
        "Jeśli zastanawiasz się, jak uzyskać ładny, wyglądający jak bąbelki wykres rozrzutu na slajdach.\n",
        "Oto przykładowy kod, spróbuj go uruchomić!"
      ]
    },
    {
      "cell_type": "code",
      "execution_count": null,
      "metadata": {
        "id": "S1IzfH45RYXD"
      },
      "outputs": [],
      "source": [
        "import numpy as np\n",
        "\n",
        "colors = np.random.rand(len(y)) # Stwórz dowolną wartość\n",
        "#plt.scatter(x,y,c=colors,alpha=0.5)\n",
        "plt.scatter(x,y,c=colors,alpha=0.5)\n",
        "plt.show()"
      ]
    },
    {
      "cell_type": "markdown",
      "metadata": {
        "id": "IbqwNkzjRYXD"
      },
      "source": [
        "### Zadanie 14: Spróbuj zmienić wartość alfa i zobacz, co się stanie."
      ]
    },
    {
      "cell_type": "markdown",
      "metadata": {
        "id": "NVR_JI6MRYXD"
      },
      "source": [
        "### Zapisywanie wykresu\n",
        "\n",
        "Możesz wykorzystać plt.savefig(\"figurename.png\"), żeby zachować rysunek. Spróbuj!"
      ]
    },
    {
      "cell_type": "code",
      "execution_count": null,
      "metadata": {
        "id": "ZbQCUJ2yRYXE"
      },
      "outputs": [],
      "source": [
        "plt.scatter(x,y,c=colors,alpha=0.5)\n",
        "plt.savefig(\"jaipur_scatter_plot.png\")"
      ]
    },
    {
      "cell_type": "markdown",
      "metadata": {
        "id": "4SeLXHPQRYXE"
      },
      "source": [
        "## Wykresy liniowe"
      ]
    },
    {
      "cell_type": "markdown",
      "metadata": {
        "id": "4heraI4pRYXE"
      },
      "source": [
        "Poza wykresem punktowym, dane typu czasowego, takie jak powyżej można także przedstawić na wykresie liniowym. Zobaczmy, jak to się robi!"
      ]
    },
    {
      "cell_type": "code",
      "execution_count": null,
      "metadata": {
        "scrolled": true,
        "id": "UVN1QjMARYXE"
      },
      "outputs": [],
      "source": [
        "y = dataframe.mean_temperature\n",
        "\n",
        "plt.plot(y)\n",
        "plt.ylabel(\"Mean Temperature\")\n",
        "plt.xlabel(\"Time\")\n",
        "\n",
        "Y_tick = ['May16','Jul16','Sept16','Nov16','Jan17','Mar17','May17','Jul17','Sept17','Nov17','Jan18','Mar18', 'May18' ]\n",
        "\n",
        "plt.xticks(np.arange(0, 731, 60), Y_tick , rotation=30)\n",
        "plt.xticks()\n",
        "\n",
        "plt.show()"
      ]
    },
    {
      "cell_type": "markdown",
      "metadata": {
        "id": "8A39pLdVRYXE"
      },
      "source": [
        "### Zadanie 15: Zmień oznaczenia i tytuł tak, żeby można zaprezentować ten wykres innym w łatwiejszy i bardziej przejrzysty sposób"
      ]
    },
    {
      "cell_type": "markdown",
      "metadata": {
        "id": "--LflqpyRYXE"
      },
      "source": [
        "### Rysowanie wielu linii na wykresie"
      ]
    },
    {
      "cell_type": "code",
      "execution_count": null,
      "metadata": {
        "id": "xyjaf1H2RYXF"
      },
      "outputs": [],
      "source": [
        "x = dataframe.date\n",
        "y_1 = dataframe.max_temperature\n",
        "y_2 = dataframe.min_temperature\n",
        "\n",
        "plt.plot(x,y_1, label = \"Max temp\")\n",
        "plt.plot(x,y_2, label = \"Min temp\")\n",
        "\n",
        "plt.xticks(np.arange(0, 731, 60))\n",
        "plt.xticks (rotation=30)\n",
        "\n",
        "plt.legend()\n",
        "plt.show()"
      ]
    },
    {
      "cell_type": "markdown",
      "metadata": {
        "id": "BMHe_f6hRYXF"
      },
      "source": [
        "### Zadanie 16: Narysuj przynajmniej 3 linie na jednym wykresie!"
      ]
    },
    {
      "cell_type": "code",
      "execution_count": null,
      "metadata": {
        "id": "AV9fBNGGRYXF"
      },
      "outputs": [],
      "source": [
        "# Twój kod"
      ]
    },
    {
      "cell_type": "markdown",
      "metadata": {
        "id": "CYbRqgaXRYXF"
      },
      "source": [
        "## Histogramy"
      ]
    },
    {
      "cell_type": "markdown",
      "metadata": {
        "id": "5mgBK-qERYXF"
      },
      "source": [
        "Histogram pozwala na przedstawienie zagęszczenia wartości. Możesz na nim sprawdzić, na przykład, w ile dni w roku temperatura wynosi powyżej 35°C, żeby wiedzieć, jakie rodzaje roślin będą rosły lepiej w twojej strefie klimatycznej. Histogram pozwala prześledzić prawdopodobieństwo dystrybucji zmiennych.\n",
        "\n",
        "Spójrzmy, jak są sporządzane histogramy."
      ]
    },
    {
      "cell_type": "code",
      "execution_count": null,
      "metadata": {
        "scrolled": true,
        "id": "vI3ql3hHRYXF"
      },
      "outputs": [],
      "source": [
        "y = dataframe.mean_temperature\n",
        "\n",
        "plt.hist(y,bins=10)\n",
        "\n",
        "plt.show()"
      ]
    },
    {
      "cell_type": "markdown",
      "metadata": {
        "id": "13FyByJ_RYXF"
      },
      "source": [
        "Co oznacza powyższe?\n",
        "\n",
        "Oznaczmy wykres w przejrzysty sposób:\n",
        "\n",
        "- Tytuł: Prawdopodobna dystrybucja temperatury w ciągu 2 lat (2016 - 2018) w Jaipur\n",
        "- Oś Y: Liczba dni\n",
        "- Oś X: Temperatura"
      ]
    },
    {
      "cell_type": "code",
      "execution_count": null,
      "metadata": {
        "id": "WcV1ABhHRYXG"
      },
      "outputs": [],
      "source": [
        "y = dataframe.mean_temperature\n",
        "\n",
        "plt.hist(y,bins=10)\n",
        "\n",
        "plt.ylabel(\"No.of days\")\n",
        "plt.xlabel(\"Temperature\")\n",
        "plt.title('Probability distribution of temperature over 2 years (2016 - 2018) in Jaipur')\n",
        "\n",
        "plt.show()"
      ]
    },
    {
      "cell_type": "markdown",
      "metadata": {
        "id": "E24i3fK4RYXG"
      },
      "source": [
        "Jaka jest moda tego zestawu danych? Który zakres temperatury jest przedstawiany najczęściej / najrzadziej?"
      ]
    },
    {
      "cell_type": "markdown",
      "metadata": {
        "id": "TwhWdxMBRYXG"
      },
      "source": [
        "### Zadanie 17: Jak myślisz, czym są parametry „bins”? Spróbuj zmienić liczbę „bins” na 20. Co zauważasz?"
      ]
    },
    {
      "cell_type": "code",
      "execution_count": null,
      "metadata": {
        "id": "O4icJeu_RYXG"
      },
      "outputs": [],
      "source": [
        "# Twój kod"
      ]
    },
    {
      "cell_type": "markdown",
      "metadata": {
        "id": "sqFDYBb6RYXG"
      },
      "source": [
        "Co histogram mówi o temperaturze w Jaipur w ciągu ostatnich dwóch lat?"
      ]
    },
    {
      "cell_type": "markdown",
      "metadata": {
        "id": "rVg6RzMHRYXG"
      },
      "source": [
        "## Wykresy kolumnowe"
      ]
    },
    {
      "cell_type": "markdown",
      "metadata": {
        "id": "YB0osD9gRYXG"
      },
      "source": [
        "Wykres kolumnowy wygląda jak histogram, ale nie jest identyczny! Zobacz różnicę między wykresem kolumnowym a histogramem  [tutaj](https://www.edrawsoft.com/histogram-vs-bar-chart.php).\n",
        "\n",
        "A teraz przejdź do biblioteki matplotlib i spójrz na przykłady wykresów kolumnowych. Tutaj jest  [link](https://pythonspot.com/matplotlib-bar-chart/)!"
      ]
    },
    {
      "cell_type": "code",
      "execution_count": null,
      "metadata": {
        "scrolled": true,
        "id": "SjMT9IH6RYXH"
      },
      "outputs": [],
      "source": [
        "import matplotlib.pyplot as plt\n",
        "import numpy as np\n",
        "\n",
        "objects = ('Python', 'C++', 'Java', 'Perl', 'Scala', 'Lisp')\n",
        "y_pos = np.arange(len(objects))\n",
        "usage = [10,8,6,4,2,1]\n",
        "\n",
        "plt.bar(y_pos, usage, align='center')\n",
        "plt.xticks(y_pos, objects) # Nazwa xticks\n",
        "\n",
        "plt.show()"
      ]
    },
    {
      "cell_type": "markdown",
      "metadata": {
        "id": "kAZ7vzDBRYXH"
      },
      "source": [
        "Jako że w przypadku danych pogodowych dla Jaipur nie mamy do czynienia z kategoriami, nie będziemy używać wykresu kolumnowego. Ale pamiętaj, żeby taki wykres stworzyć!"
      ]
    },
    {
      "cell_type": "markdown",
      "metadata": {
        "id": "o-NbG-LHRYXH"
      },
      "source": [
        "## Wykresy pudełkowe"
      ]
    },
    {
      "cell_type": "markdown",
      "metadata": {
        "id": "SIXqNTUVRYXH"
      },
      "source": [
        "Wykresów pudełkowych używa się do określenia dystrybucji zestawu danych.\n",
        "\n",
        "Przeanalizujemy wykres pudełkowy z wykorzystaniem przykładowego instruktażu ze [strony WWW](https://matplotlib.org/gallery/pyplots/boxplot_demo_pyplot.html#sphx-glr-gallery-pyplots-boxplot-demo-pyplot-py) matplotlib.\n",
        "\n",
        "### Najpierw stworzymy dowolne dane dla naszego przykładu"
      ]
    },
    {
      "cell_type": "code",
      "execution_count": null,
      "metadata": {
        "id": "6KxoRi3BRYXH"
      },
      "outputs": [],
      "source": [
        "np.random.seed(10)\n",
        "data = np.random.normal(100, 10, 200)"
      ]
    },
    {
      "cell_type": "markdown",
      "metadata": {
        "id": "7zcAOkN5RYXL"
      },
      "source": [
        "### Następnie stworzymy wykres pudełkowy"
      ]
    },
    {
      "cell_type": "code",
      "execution_count": null,
      "metadata": {
        "id": "MQ-lp1cZRYXM"
      },
      "outputs": [],
      "source": [
        "fig1, ax1 = plt.subplots()\n",
        "ax1.set_title('Basic Plot')\n",
        "ax1.boxplot(data)\n",
        "plt.show()"
      ]
    },
    {
      "cell_type": "markdown",
      "metadata": {
        "id": "wiBhzUtaRYXM"
      },
      "source": [
        "Świetnie! Wykres pudełkowy gotowy. Pamiętasz, jak należy go czytać? Sprawdź [tutaj](https://www.statisticshowto.com/probability-and-statistics/descriptive-statistics/box-plot/)\n",
        "\n",
        "Widzisz, jakie są wartości następujących parametrów:\n",
        "- Obserwacja odstająca\n",
        "- Mediana\n",
        "- Pierwszy kwartyl\n",
        "- Trzeci kwartyl"
      ]
    },
    {
      "cell_type": "markdown",
      "metadata": {
        "id": "cFTenI5ZRYXM"
      },
      "source": [
        "Skoro już wiesz, jak sporządza się wykres pudełkowy, zastosuj go do danych dotyczących temperatury w Jaipur."
      ]
    },
    {
      "cell_type": "code",
      "execution_count": null,
      "metadata": {
        "id": "MhIyhBnZRYXM"
      },
      "outputs": [],
      "source": [
        "y=dataframe.mean_temperature\n",
        "\n",
        "plt.boxplot(y)\n",
        "plt.show()"
      ]
    },
    {
      "cell_type": "markdown",
      "metadata": {
        "id": "1_2dkgxBRYXM"
      },
      "source": [
        "Co mówi wykres pudełkowy na temat temperatury a Jaipur w ciągu ostatnich dwóch lat?"
      ]
    },
    {
      "cell_type": "markdown",
      "metadata": {
        "id": "xAw7fyg9RYXM"
      },
      "source": [
        "## Podwykresy\n",
        "Bywa, że chcemy stworzyć więcej wykresów obok siebie. Możemy w tym celu wykorzystać podwykresy!\n",
        "\n",
        "Można je stworzyć w następujący sposób."
      ]
    },
    {
      "cell_type": "code",
      "execution_count": null,
      "metadata": {
        "id": "c5ZVk6dfRYXM"
      },
      "outputs": [],
      "source": [
        "x = dataframe.date\n",
        "y = dataframe.mean_temperature\n",
        "\n",
        "fig, (ax1, ax2) = plt.subplots(1, 2, sharey=True) # stwórz 2 podwykresy ze wspólną osią y\n",
        "fig.suptitle('Sharing Y axis')\n",
        "ax1.plot(x, y)\n",
        "ax2.scatter(x, y)\n",
        "plt.show()"
      ]
    },
    {
      "cell_type": "markdown",
      "metadata": {
        "id": "1sppgiHWRYXN"
      },
      "source": [
        "### Zadanie 18: Stwórz podwykresy z 3 wykresami ze wspólną osią y!"
      ]
    },
    {
      "cell_type": "code",
      "execution_count": null,
      "metadata": {
        "id": "-un9FatfRYXN"
      },
      "outputs": [],
      "source": [
        "# Twój kod"
      ]
    },
    {
      "cell_type": "markdown",
      "metadata": {
        "id": "DIpy8iyNRYXN"
      },
      "source": [
        "### Zadanie 19: Stwórz podwykresy ze wspólną osią x!\n",
        "Sprawdź pod tym [linkiem](https://matplotlib.org/gallery/subplots_axes_and_figures/subplots_demo.html), jak należy to zrobić!"
      ]
    },
    {
      "cell_type": "code",
      "execution_count": null,
      "metadata": {
        "id": "Qb3vSgrWRYXN"
      },
      "outputs": [],
      "source": [
        "# Twój kod"
      ]
    },
    {
      "cell_type": "markdown",
      "metadata": {
        "id": "e0he6ufIRYXN"
      },
      "source": [
        "## Wyzwania:"
      ]
    },
    {
      "cell_type": "markdown",
      "metadata": {
        "id": "BSbKSa-lRYXN"
      },
      "source": [
        "Załaduj zestaw danych nz_weather.csv z folderu roboczego.\n",
        "\n",
        "Źródło danych:\n",
        "https://raw.githubusercontent.com/plotly/datasets/master/nz_weather.csv."
      ]
    },
    {
      "cell_type": "markdown",
      "metadata": {
        "id": "k83izbdIRYXN"
      },
      "source": [
        "## Załaduj dane"
      ]
    },
    {
      "cell_type": "code",
      "execution_count": null,
      "metadata": {
        "id": "pl960-0yRYXN"
      },
      "outputs": [],
      "source": [
        "# Twój kod\n",
        "\n",
        "import pandas as pd\n",
        "\n",
        "url = 'https://raw.githubusercontent.com/plotly/datasets/master/nz_weather.csv'\n",
        "\n",
        "df = pd.read_csv(url)"
      ]
    },
    {
      "cell_type": "markdown",
      "metadata": {
        "id": "h6quO696RYXO"
      },
      "source": [
        "## Wypisz pięć pierwszych wyników"
      ]
    },
    {
      "cell_type": "code",
      "execution_count": null,
      "metadata": {
        "id": "aaG_Kff5RYXO"
      },
      "outputs": [],
      "source": [
        "# Twój kod"
      ]
    },
    {
      "cell_type": "markdown",
      "metadata": {
        "id": "D74qL7YDRYXO"
      },
      "source": [
        "## Narysuj dwie linie na jednym wykresie przedstawiające pogodę w Christchurch i Hamilton w ciągu roku"
      ]
    },
    {
      "cell_type": "code",
      "execution_count": null,
      "metadata": {
        "scrolled": true,
        "id": "jcmAEQ8mRYXO"
      },
      "outputs": [],
      "source": [
        "# Twój kod"
      ]
    },
    {
      "cell_type": "markdown",
      "metadata": {
        "id": "iEoM4r-cRYXO"
      },
      "source": [
        "Czy na podstawie wykresu widzisz, w którym mieście jest wyższa temperatura? Możesz obliczyć [średnią wartość](https://www.geeksforgeeks.org/python-pandas-dataframe-mean/), żeby się dowiedzieć."
      ]
    },
    {
      "cell_type": "markdown",
      "metadata": {
        "id": "Nu5fNxCxRYXO"
      },
      "source": [
        "## Stwórz histogram dla pogody w Auckland"
      ]
    },
    {
      "cell_type": "code",
      "execution_count": null,
      "metadata": {
        "id": "T0gaKmKWRYXO"
      },
      "outputs": [],
      "source": [
        "# Twój kod"
      ]
    },
    {
      "cell_type": "markdown",
      "metadata": {
        "id": "lCFoQur-RYXO"
      },
      "source": [
        "Spójrz na wykres. Widzisz punkt danych, który może stanowić obserwację odstającą?"
      ]
    },
    {
      "cell_type": "markdown",
      "metadata": {
        "id": "LYSJU1nYRYXO"
      },
      "source": [
        "## Stwórz wykres pudełkowy dla pogody w Auckland"
      ]
    },
    {
      "cell_type": "code",
      "execution_count": null,
      "metadata": {
        "scrolled": true,
        "id": "B_R2vgVORYXP"
      },
      "outputs": [],
      "source": [
        "# Twój kod"
      ]
    },
    {
      "cell_type": "code",
      "source": [],
      "metadata": {
        "id": "0oHx23Y_EnMq"
      },
      "execution_count": null,
      "outputs": []
    },
    {
      "cell_type": "markdown",
      "metadata": {
        "id": "mI1OyS3uRYXP"
      },
      "source": [
        "## Stwórz podwykres przedstawiający wszystkie wykresy pudełkowe dla poszczególnych obszarów"
      ]
    },
    {
      "cell_type": "markdown",
      "metadata": {
        "id": "DnmzOP_LRYXP"
      },
      "source": [
        "Widzisz obserwację odstającą? Co można z nią zrobić?"
      ]
    },
    {
      "cell_type": "markdown",
      "metadata": {
        "id": "-08ybq2xRYXP"
      },
      "source": [
        "### Świetnie! Potrafisz już wizualizować dane z wykorzystaniem biblioteki matplotlib. Wykorzystasz te umiejętności ponownie podczas etapu doświadczeń!"
      ]
    },
    {
      "cell_type": "markdown",
      "source": [
        "##**Ćwiczenie podsumowujące | wykresy na wspólnej osi x oraz y**"
      ],
      "metadata": {
        "id": "aVDOruJPEzKt"
      }
    },
    {
      "cell_type": "markdown",
      "source": [
        "Założenia dotyczące danych\n",
        "W obu przykładach symulujemy proste dane ekonomiczne:\n",
        "\n",
        "* Inflacja (wartości w procentach)\n",
        "* Bezrobocie (wartości w procentach)\n",
        "* Wzrost PKB (wartości w procentach)\n",
        "\n",
        "Zakładamy, że dane te dotyczą kolejnych 12 miesięcy (od 1 do 12). Oczywiście w rzeczywistych zastosowaniach można wczytać dane np. z pliku CSV (pochodzącego z Kaggle lub innego źródła) i analogicznie je zwizualizować."
      ],
      "metadata": {
        "id": "N5DOQ7OfFNrd"
      }
    },
    {
      "cell_type": "code",
      "source": [
        "# 1. Trzy wykresy obok siebie (wspólna oś y)\n",
        "\n",
        "import matplotlib.pyplot as plt\n",
        "import numpy as np\n",
        "\n",
        "# Przykładowe dane (12 miesięcy)\n",
        "miesiace = np.arange(1, 13)\n",
        "inflacja = [3.1, 3.2, 3.2, 3.5, 3.7, 4.0, 4.2, 4.5, 4.6, 4.4, 4.3, 4.2]\n",
        "bezrobocie = [5.2, 5.1, 5.1, 5.0, 4.9, 4.8, 4.8, 4.7, 4.7, 4.6, 4.5, 4.5]\n",
        "wzrost_pkb = [1.2, 1.3, 1.1, 1.4, 1.6, 1.5, 1.7, 1.8, 1.9, 2.0, 2.2, 2.3]\n",
        "\n",
        "# Utworzenie przestrzeni na wykres i trzech subplots (1 wiersz, 3 kolumny)\n",
        "fig, axes = plt.subplots(1, 3, figsize=(12, 4), sharey=True)\n",
        "\n",
        "# Wykres inflacji\n",
        "axes[0].plot(miesiace, inflacja, marker='o', color='red')\n",
        "axes[0].set_title(\"Inflacja\")\n",
        "axes[0].set_xlabel(\"Miesiąc\")\n",
        "axes[0].set_ylabel(\"Procent\")\n",
        "\n",
        "# Wykres bezrobocia\n",
        "axes[1].plot(miesiace, bezrobocie, marker='o', color='blue')\n",
        "axes[1].set_title(\"Bezrobocie\")\n",
        "axes[1].set_xlabel(\"Miesiąc\")\n",
        "# Oś y jest współdzielona, więc nie musimy ustawiać ponownie etykiety\n",
        "\n",
        "# Wykres wzrostu PKB\n",
        "axes[2].plot(miesiace, wzrost_pkb, marker='o', color='green')\n",
        "axes[2].set_title(\"Wzrost PKB\")\n",
        "axes[2].set_xlabel(\"Miesiąc\")\n",
        "\n",
        "# Dopasowanie odstępów między wykresami i wyświetlenie\n",
        "plt.tight_layout()\n",
        "plt.show()\n"
      ],
      "metadata": {
        "colab": {
          "base_uri": "https://localhost:8080/",
          "height": 360
        },
        "id": "CQrxEPu-E0uB",
        "outputId": "3daa674a-8b52-4f0a-b210-0ce8a553f479"
      },
      "execution_count": null,
      "outputs": [
        {
          "output_type": "display_data",
          "data": {
            "text/plain": [
              "<Figure size 1200x400 with 3 Axes>"
            ],
            "image/png": "[encoded data removed]"
          },
          "metadata": {}
        }
      ]
    },
    {
      "cell_type": "markdown",
      "source": [
        "Wyjaśnienie kluczowych parametrów:\n",
        "\n",
        "* subplots(1, 3, sharey=True) tworzy 3 wykresy w jednym wierszu, współdzielące oś y (czyli zakres wartości na osi pionowej będzie ten sam).\n",
        "* figsize=(12, 4) kontroluje rozmiar całej figury w calach (szerokość x wysokość).\n",
        "* plt.tight_layout() dopasowuje automatycznie odstępy między wykresami, by nie nachodziły na siebie etykiety."
      ],
      "metadata": {
        "id": "piM46VRFE_Q0"
      }
    },
    {
      "cell_type": "code",
      "source": [
        "# 2. Trzy wykresy jeden pod drugim (wspólna oś y)\n",
        "# W tym przykładzie wykresy ułożymy pionowo (trzy wiersze, jedna kolumna) i znów będą współdzielić oś y.\n",
        "\n",
        "import matplotlib.pyplot as plt\n",
        "import numpy as np\n",
        "\n",
        "# Przykładowe dane (12 miesięcy) - te same co wcześniej\n",
        "miesiace = np.arange(1, 13)\n",
        "inflacja = [3.1, 3.2, 3.2, 3.5, 3.7, 4.0, 4.2, 4.5, 4.6, 4.4, 4.3, 4.2]\n",
        "bezrobocie = [5.2, 5.1, 5.1, 5.0, 4.9, 4.8, 4.8, 4.7, 4.7, 4.6, 4.5, 4.5]\n",
        "wzrost_pkb = [1.2, 1.3, 1.1, 1.4, 1.6, 1.5, 1.7, 1.8, 1.9, 2.0, 2.2, 2.3]\n",
        "\n",
        "# Utworzenie przestrzeni na wykresy i trzech subplots (3 wiersze, 1 kolumna)\n",
        "\n",
        "# kod\n",
        "\n",
        "\n",
        "# Wykres inflacji (subplot 0)\n",
        "\n",
        "# kod\n",
        "\n",
        "\n",
        "# Wykres bezrobocia (subplot 1)\n",
        "\n",
        "#kod\n",
        "\n",
        "\n",
        "# Wykres wzrostu PKB (subplot 2)\n",
        "\n",
        "#kod\n",
        "\n",
        "\n",
        "# Dopasowanie odstępów i wyświetlenie\n",
        "\n",
        "#kod\n",
        "\n"
      ],
      "metadata": {
        "id": "Bh7s22SaFGO_"
      },
      "execution_count": null,
      "outputs": []
    },
    {
      "cell_type": "markdown",
      "source": [
        "Wyjaśnienie kluczowych parametrów:\n",
        "\n",
        "* subplots(3, 1, sharey=True) tworzy 3 wykresy w trzech wierszach, współdzielące oś y.\n",
        "* figsize=(6, 8) nadaje figurze kształt bardziej pionowy, aby lepiej rozłożyć poszczególne wykresy."
      ],
      "metadata": {
        "id": "pR-VDbIkFg4d"
      }
    }
  ]
}